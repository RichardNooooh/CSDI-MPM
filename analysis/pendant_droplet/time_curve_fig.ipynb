{
 "cells": [
  {
   "cell_type": "code",
   "execution_count": null,
   "metadata": {},
   "outputs": [],
   "source": [
    "import matplotlib.pyplot as plt\n",
    "import matplotlib.ticker as ticker\n",
    "\n",
    "import numpy as np\n",
    "import math\n",
    "# plt.rcParams[\"font.family\"] = \"serif\"\n",
    "plt.rcParams[\"font.serif\"] = [\"Times New Roman\"]\n",
    "plt.rcParams[\"font.size\"] = 16"
   ]
  },
  {
   "cell_type": "code",
   "execution_count": null,
   "metadata": {},
   "outputs": [],
   "source": [
    "# gravity\n",
    "t_grav_load_start = 50\n",
    "t_grav_load_max = 50.0\n",
    "\n",
    "# surface tension\n",
    "t_st_load_max = 50.0\n",
    "t_st_load_decay_start = 150.0\n",
    "t_st_load_decay_factor = 0.005"
   ]
  },
  {
   "cell_type": "code",
   "execution_count": null,
   "metadata": {},
   "outputs": [],
   "source": [
    "def timeScaleGravity(t: float, t_load_start: float, t_load_max: float) -> float:\n",
    "    \"\"\"\n",
    "    Computes a scaling factor between 0.0 and 1.0, starting to load after t_load_start \n",
    "    and reaching full scale (1.0) when the difference t - t_load_start equals t_load_max.\n",
    "    \n",
    "    The function returns:\n",
    "        max(0.0, min(t_load_max, t - t_load_start) / t_load_max)\n",
    "    \"\"\"\n",
    "    return max(0.0, min(t_load_max, t - t_load_start) / t_load_max)\n",
    "\n",
    "\n",
    "def timeScaleSurfaceTension(t: float, t_load_max: float, \n",
    "                            t_load_decay_start: float, t_load_decay_factor: float) -> float:\n",
    "    \"\"\"\n",
    "    Computes a scaling factor between 0.0 and 1.0 that transitions through three phases:\n",
    "      1. For t < t_load_max: increases linearly from 0 to 1.\n",
    "      2. For t_load_max <= t < t_load_decay_start: remains constant at 1.\n",
    "      3. For t >= t_load_decay_start: decays exponentially with rate t_load_decay_factor.\n",
    "      \n",
    "    For the decay phase the function returns:\n",
    "        exp(-t_load_decay_factor * (t - t_load_decay_start))\n",
    "    \"\"\"\n",
    "    if t < t_load_max:\n",
    "        return t / t_load_max\n",
    "    elif t < t_load_decay_start:\n",
    "        return 1.0\n",
    "    else:\n",
    "        return math.exp(-t_load_decay_factor * (t - t_load_decay_start))"
   ]
  },
  {
   "cell_type": "code",
   "execution_count": null,
   "metadata": {},
   "outputs": [],
   "source": [
    "t_A = 150.0\n",
    "t_B = 314.0\n",
    "t_C = 450.0\n",
    "t_D = 510.0"
   ]
  },
  {
   "cell_type": "code",
   "execution_count": null,
   "metadata": {},
   "outputs": [],
   "source": [
    "# Generate a range of t values as a NumPy array\n",
    "t_values = np.linspace(0, 550, 10000)\n",
    "\n",
    "# Compute the function values using the vectorized implementations\n",
    "gravity_values = [timeScaleGravity(t, t_grav_load_start, t_grav_load_max) for t in t_values]\n",
    "surface_tension_values = [\n",
    "    timeScaleSurfaceTension(t, t_st_load_max, t_st_load_decay_start, t_st_load_decay_factor)\n",
    "    for t in t_values\n",
    "]\n",
    "\n",
    "# Plotting the results\n",
    "fig, ax = plt.subplots(figsize=(8, 4),dpi=500)\n",
    "ax.plot(t_values, gravity_values, label='Time Scale Gravity', linewidth=2, color=\"dodgerblue\")\n",
    "ax.plot(t_values, surface_tension_values, label='Time Scale Surface Tension', linewidth=2, color=\"tomato\")\n",
    "\n",
    "# Add vertical dashed lines for t_A, t_B, t_C, and t_D\n",
    "for t_val in [t_A, t_B, t_C, t_D]:\n",
    "    ax.axvline(x=t_val, color='black', linestyle='--', linewidth=1)\n",
    "\n",
    "# Annotate the vertical lines with labels A, B, C, and D. Place text at 95% of the y-axis height.\n",
    "# y_max = plt.ylim()[1]\n",
    "# plt.text(t_A, y_max * 0.95, 'A', horizontalalignment='center', verticalalignment='top', fontsize=12)\n",
    "# plt.text(t_B, y_max * 0.95, 'B', horizontalalignment='center', verticalalignment='top', fontsize=12)\n",
    "# plt.text(t_C, y_max * 0.95, 'C', horizontalalignment='center', verticalalignment='top', fontsize=12)\n",
    "# plt.text(t_D, y_max * 0.95, 'D', horizontalalignment='center', verticalalignment='top', fontsize=12)\n",
    "\n",
    "# plt.xlabel('Time (t)', fontsize=14)\n",
    "# plt.ylabel('Scale Factor', fontsize=14)\n",
    "# plt.legend(fontsize=12)\n",
    "\n",
    "# Customize major and minor ticks for the x-axis\n",
    "ax.xaxis.set_major_locator(ticker.MultipleLocator(100))  # Major ticks every 100 units.\n",
    "ax.xaxis.set_minor_locator(ticker.MultipleLocator(25))     # Minor ticks every 25 units.\n",
    "\n",
    "# Customize major and minor ticks for the y-axis\n",
    "ax.yaxis.set_major_locator(ticker.MultipleLocator(0.2))    # Major ticks every 0.2 units.\n",
    "ax.yaxis.set_minor_locator(ticker.MultipleLocator(0.1))   # Minor ticks every 0.05 units.\n",
    "\n",
    "# Modify tick parameters: direction, length, width, and color for both major and minor ticks.\n",
    "ax.tick_params(axis='both', which='major', direction='inout', length=10, width=1, colors='black')\n",
    "ax.tick_params(axis='both', which='minor', direction='inout', length=5, width=1, colors='gray')\n",
    "\n",
    "# Enable grid lines for both major and minor ticks, with distinct line styles if desired.\n",
    "ax.grid(which='major', linestyle='-', linewidth=0.8, color='black', alpha=0.3)\n",
    "ax.grid(which='minor', linestyle='--', linewidth=0.6, color='gray', alpha=0.3)\n",
    "\n",
    "for label in ax.get_xticklabels():\n",
    "    # label.set_fontname('TimesNewRoman')\n",
    "    label.set_fontsize(12)\n",
    "for label in ax.get_yticklabels():\n",
    "    # label.set_fontname('Times New Roman')\n",
    "    label.set_fontsize(12)\n",
    "ax.grid(True)\n",
    "plt.tight_layout()\n",
    "plt.savefig(\"../../ex3_timescale_graph.svg\")\n",
    "plt.show()"
   ]
  }
 ],
 "metadata": {
  "kernelspec": {
   "display_name": ".venv",
   "language": "python",
   "name": "python3"
  },
  "language_info": {
   "codemirror_mode": {
    "name": "ipython",
    "version": 3
   },
   "file_extension": ".py",
   "mimetype": "text/x-python",
   "name": "python",
   "nbconvert_exporter": "python",
   "pygments_lexer": "ipython3",
   "version": "3.12.5"
  }
 },
 "nbformat": 4,
 "nbformat_minor": 2
}
